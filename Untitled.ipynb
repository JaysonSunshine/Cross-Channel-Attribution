{
 "cells": [
  {
   "cell_type": "code",
   "execution_count": 5,
   "metadata": {
    "collapsed": false
   },
   "outputs": [
    {
     "ename": "NameError",
     "evalue": "name 'argv' is not defined",
     "output_type": "error",
     "traceback": [
      "\u001b[1;31m---------------------------------------------------------------------------\u001b[0m",
      "\u001b[1;31mNameError\u001b[0m                                 Traceback (most recent call last)",
      "\u001b[1;32m<ipython-input-5-1df0a56a1501>\u001b[0m in \u001b[0;36m<module>\u001b[1;34m()\u001b[0m\n\u001b[0;32m    105\u001b[0m \u001b[1;33m\u001b[0m\u001b[0m\n\u001b[0;32m    106\u001b[0m \u001b[1;32mif\u001b[0m \u001b[0m__name__\u001b[0m \u001b[1;33m==\u001b[0m \u001b[1;34m'__main__'\u001b[0m\u001b[1;33m:\u001b[0m\u001b[1;33m\u001b[0m\u001b[0m\n\u001b[1;32m--> 107\u001b[1;33m         \u001b[0mmain\u001b[0m\u001b[1;33m(\u001b[0m\u001b[1;33m*\u001b[0m\u001b[0margv\u001b[0m\u001b[1;33m)\u001b[0m\u001b[1;33m\u001b[0m\u001b[0m\n\u001b[0m",
      "\u001b[1;31mNameError\u001b[0m: name 'argv' is not defined"
     ]
    }
   ],
   "source": [
    "import csv\n",
    "import operator\n",
    "import sys\n",
    "\n",
    "class Event:\n",
    "\tdef __init__(self, filename):\n",
    "\t\twith open(filename, 'rb') as csvfile:\n",
    "\t\t\tevent = csv.reader(csvfile)\n",
    "\t\t\tself.data = [row for row in event]\n",
    "\n",
    "\tdef myKey(self, elem):\n",
    "\t\treturn elem[0]\n",
    "\n",
    "\tdef deviceChannelPaths(self):\n",
    "\t\tdevice_id = {}\n",
    "\t\tfor elem in self.data:\n",
    "\t\t\tif elem[1] in device_id:\n",
    "\t\t\t\tdevice_id[elem[1]].append((elem[0], elem[3]))\n",
    "\t\t\telse:\n",
    "\t\t\t\tdevice_id[elem[1]] = [(elem[0], elem[3])]\n",
    "\n",
    "\t\toutput = []\n",
    "\t\tfor elem in device_id:\n",
    "\t\t\tdevice_id[elem] = sorted(device_id[elem], key=self.myKey)\n",
    "\t\t\tdevice_id[elem] = ', '.join([row[1] for row in device_id[elem]])\n",
    "\t\t\toutput.append('%s: ' % elem + device_id[elem])\n",
    "\n",
    "\t\toutput_string = ''\n",
    "\t\toutput = sorted(output)\n",
    "\t\tfor elem in output:\n",
    "\t\t\toutput_string += elem + '\\n'\n",
    "\t\treturn output_string.rstrip('\\n')\n",
    "\n",
    "\tdef deviceId(self):\n",
    "\t\tdevice_id = {}\n",
    "\t\tfor elem in self.data:\n",
    "\t\t\tif elem[2] in device_id:\n",
    "\t\t\t\tdevice_id[elem[2]].append((elem[0], elem[1], elem[3]))\n",
    "\t\t\telse:\n",
    "\t\t\t\tdevice_id[elem[2]] = [(elem[0], elem[1], elem[3])]\n",
    "\t\treturn device_id\n",
    "\n",
    "\tdef commonPaths(self):\n",
    "\t\tdevice_id = self.deviceId()\n",
    "\t\tfor elem in device_id:\n",
    "\t\t\tdevice_id[elem] = sorted(device_id[elem], key=self.myKey)\n",
    "\t\t\tnew_dict = {}\n",
    "\t\t\tfor item in device_id[elem]:\n",
    "\t\t\t\tif item[1] in new_dict:\n",
    "\t\t\t\t\tnew_dict[item[1]].append(item[2])\n",
    "\t\t\t\telse:\n",
    "\t\t\t\t\tnew_dict[item[1]] = [item[2]]\n",
    "\t\t\tdevice_id[elem] = new_dict\n",
    "\n",
    "\t\tanswer_dict = {}\n",
    "\t\tfor elem in device_id:\n",
    "\t\t\tif elem:\n",
    "\t\t\t\tfor key in device_id[elem]:\n",
    "\t\t\t\t\tpath = ', '.join([row for row in device_id[elem][key]])\n",
    "\t\t\t\t\tif path in answer_dict:\n",
    "\t\t\t\t\t\tanswer_dict[path] += 1\n",
    "\t\t\t\t\telse:\n",
    "\t\t\t\t\t\tanswer_dict[path] = 1\n",
    "\t\t\n",
    "\t\tsorted_dict = sorted(answer_dict.items(), key=operator.itemgetter(1), reverse=True)\n",
    "\t\toutput_string = ''\n",
    "\t\tfor item in sorted_dict[:20]:\n",
    "\t\t\toutput_string += '%s: ' % item[1] + item[0] + '\\n'\n",
    "\t\treturn output_string.rstrip('\\n')\n",
    "\n",
    "\tdef userChannelPaths(self):\n",
    "\t\tuser_channel_paths = self.deviceId()\n",
    "\n",
    "\t\tempty_user_dict = {}\n",
    "\t\tif '' in user_channel_paths:\n",
    "\t\t\tfor elem in user_channel_paths['']:\n",
    "\t\t\t\tif elem[1] in empty_user_dict:\n",
    "\t\t\t\t\tempty_user_dict[elem[1]].append(elem)\n",
    "\t\t\t\telse:\n",
    "\t\t\t\t\tempty_user_dict[elem[1]] = [elem]\n",
    "\t\t\t\t\n",
    "\t\toutput = []\n",
    "\t\tfor key in user_channel_paths:\n",
    "\t\t\tif key:\n",
    "\t\t\t\tkey_dict = {}\n",
    "\t\t\t\tfor user_device_id in user_channel_paths[key]:\n",
    "\t\t\t\t\tif user_device_id[1] not in key_dict:\n",
    "\t\t\t\t\t\tkey_dict[user_device_id[1]] = True\n",
    "\t\t\t\tfor keys in key_dict:\n",
    "\t\t\t\t\tif keys in empty_user_dict:\n",
    "\t\t\t\t\t\tuser_channel_paths[key].extend(empty_user_dict[keys])\n",
    "\t\t\t\tuser_channel_paths[key] = sorted(user_channel_paths[key], key=self.myKey)\n",
    "\t\t\t\toutput.append('%s: ' % key + ', '.join([row[2] for row in user_channel_paths[key]]))\n",
    "\t\toutput_string = ''\n",
    "\t\toutput = sorted(output)\n",
    "\t\tfor elem in output:\n",
    "\t\t\toutput_string += elem + '\\n'\n",
    "\t\treturn output_string.rstrip('\\n')\n",
    "\n",
    "def main(*argv):\n",
    "\tmyEvent = Event(argv[0])\n",
    "\t#print myEvent.deviceChannelPaths()\n",
    "\t#print myEvent.commonPaths()\n",
    "\tprint myEvent.userChannelPaths()\n",
    "\n",
    "if __name__ == '__main__':\n",
    "\tmain(*argv)\n"
   ]
  },
  {
   "cell_type": "code",
   "execution_count": 1,
   "metadata": {
    "collapsed": false
   },
   "outputs": [
    {
     "ename": "NameError",
     "evalue": "name 'main' is not defined",
     "output_type": "error",
     "traceback": [
      "\u001b[1;31m---------------------------------------------------------------------------\u001b[0m",
      "\u001b[1;31mNameError\u001b[0m                                 Traceback (most recent call last)",
      "\u001b[1;32m<ipython-input-1-6d3d19167c06>\u001b[0m in \u001b[0;36m<module>\u001b[1;34m()\u001b[0m\n\u001b[0;32m      1\u001b[0m \u001b[1;31m#%load evnt\u001b[0m\u001b[1;33m\u001b[0m\u001b[1;33m\u001b[0m\u001b[0m\n\u001b[1;32m----> 2\u001b[1;33m \u001b[0mmain\u001b[0m\u001b[1;33m(\u001b[0m\u001b[1;34m\"data/event.csv\"\u001b[0m\u001b[1;33m)\u001b[0m\u001b[1;33m\u001b[0m\u001b[0m\n\u001b[0m",
      "\u001b[1;31mNameError\u001b[0m: name 'main' is not defined"
     ]
    }
   ],
   "source": [
    "#%load evnt\n",
    "main(\"data/event.csv\")"
   ]
  },
  {
   "cell_type": "code",
   "execution_count": null,
   "metadata": {
    "collapsed": true
   },
   "outputs": [],
   "source": []
  }
 ],
 "metadata": {
  "kernelspec": {
   "display_name": "Python 2",
   "language": "python",
   "name": "python2"
  },
  "language_info": {
   "codemirror_mode": {
    "name": "ipython",
    "version": 2
   },
   "file_extension": ".py",
   "mimetype": "text/x-python",
   "name": "python",
   "nbconvert_exporter": "python",
   "pygments_lexer": "ipython2",
   "version": "2.7.11"
  }
 },
 "nbformat": 4,
 "nbformat_minor": 0
}
